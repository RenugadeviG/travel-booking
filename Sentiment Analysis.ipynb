{
  "nbformat": 4,
  "nbformat_minor": 0,
  "metadata": {
    "colab": {
      "provenance": []
    },
    "kernelspec": {
      "name": "python3",
      "display_name": "Python 3"
    },
    "language_info": {
      "name": "python"
    }
  },
  "cells": [
    {
      "cell_type": "code",
      "execution_count": 1,
      "metadata": {
        "colab": {
          "base_uri": "https://localhost:8080/"
        },
        "id": "pbBbQDmJMwoz",
        "outputId": "fbe9c1a4-d7f1-4213-c625-ebc4789278a6"
      },
      "outputs": [
        {
          "output_type": "stream",
          "name": "stdout",
          "text": [
            "Downloading data from https://storage.googleapis.com/tensorflow/tf-keras-datasets/imdb.npz\n",
            "\u001b[1m17464789/17464789\u001b[0m \u001b[32m━━━━━━━━━━━━━━━━━━━━\u001b[0m\u001b[37m\u001b[0m \u001b[1m0s\u001b[0m 0us/step\n",
            "Epoch 1/2\n"
          ]
        },
        {
          "output_type": "stream",
          "name": "stderr",
          "text": [
            "/usr/local/lib/python3.11/dist-packages/keras/src/layers/core/embedding.py:90: UserWarning: Argument `input_length` is deprecated. Just remove it.\n",
            "  warnings.warn(\n"
          ]
        },
        {
          "name": "stdout",
          "output_type": "stream",
          "text": [
            "\u001b[1m313/313\u001b[0m \u001b[32m━━━━━━━━━━━━━━━━━━━━\u001b[0m\u001b[37m\u001b[0m \u001b[1m84s\u001b[0m 257ms/step - accuracy: 0.7142 - loss: 0.5432 - val_accuracy: 0.8514 - val_loss: 0.3600\n",
            "Epoch 2/2\n",
            "\u001b[1m313/313\u001b[0m \u001b[32m━━━━━━━━━━━━━━━━━━━━\u001b[0m\u001b[37m\u001b[0m \u001b[1m79s\u001b[0m 254ms/step - accuracy: 0.8974 - loss: 0.2616 - val_accuracy: 0.8764 - val_loss: 0.3101\n",
            "\u001b[1m782/782\u001b[0m \u001b[32m━━━━━━━━━━━━━━━━━━━━\u001b[0m\u001b[37m\u001b[0m \u001b[1m30s\u001b[0m 38ms/step - accuracy: 0.8639 - loss: 0.3259\n",
            "Test Accuracy: 0.8674\n",
            "Downloading data from https://storage.googleapis.com/tensorflow/tf-keras-datasets/imdb_word_index.json\n",
            "\u001b[1m1641221/1641221\u001b[0m \u001b[32m━━━━━━━━━━━━━━━━━━━━\u001b[0m\u001b[37m\u001b[0m \u001b[1m0s\u001b[0m 0us/step\n",
            "Enter a review (or 'exit' to stop): this movie is fantastic\n",
            "\u001b[1m1/1\u001b[0m \u001b[32m━━━━━━━━━━━━━━━━━━━━\u001b[0m\u001b[37m\u001b[0m \u001b[1m0s\u001b[0m 233ms/step\n",
            "Input: this movie is fantastic\n",
            "Sentiment: Positive 😊 (Confidence: 0.69)\n",
            "Enter a review (or 'exit' to stop): exit\n"
          ]
        }
      ],
      "source": [
        "import numpy as np\n",
        "from tensorflow.keras.datasets import imdb\n",
        "from tensorflow.keras.preprocessing.sequence import pad_sequences\n",
        "from tensorflow.keras.models import Sequential\n",
        "from tensorflow.keras.layers import Embedding, LSTM, Dense\n",
        "\n",
        "# Parameters\n",
        "vocab_size = 10000  # Top 10,000 words\n",
        "maxlen = 200        # Max sequence length\n",
        "\n",
        "# Load dataset\n",
        "(x_train, y_train), (x_test, y_test) = imdb.load_data(num_words=vocab_size)\n",
        "\n",
        "# Pad sequences\n",
        "x_train = pad_sequences(x_train, maxlen=maxlen)\n",
        "x_test = pad_sequences(x_test, maxlen=maxlen)\n",
        "\n",
        "# Build LSTM Model\n",
        "model = Sequential()\n",
        "model.add(Embedding(vocab_size, 128, input_length=maxlen))\n",
        "model.add(LSTM(64))\n",
        "model.add(Dense(1, activation='sigmoid'))\n",
        "\n",
        "# Compile\n",
        "model.compile(loss='binary_crossentropy', optimizer='adam', metrics=['accuracy'])\n",
        "\n",
        "# Train\n",
        "model.fit(x_train, y_train, epochs=2, batch_size=64, validation_split=0.2)\n",
        "\n",
        "# Evaluate\n",
        "loss, accuracy = model.evaluate(x_test, y_test)\n",
        "print(f\"Test Accuracy: {accuracy:.4f}\")\n",
        "\n",
        "# Prepare for real-time prediction\n",
        "word_index = imdb.get_word_index()\n",
        "\n",
        "def encode_text(text):\n",
        "    words = text.lower().split()\n",
        "    encoded = [word_index.get(word, 2) for word in words]  # 2 = unknown word\n",
        "    return pad_sequences([encoded], maxlen=maxlen)\n",
        "\n",
        "def predict_sentiment(text):\n",
        "    encoded_text = encode_text(text)\n",
        "    prediction = model.predict(encoded_text)[0][0]\n",
        "    sentiment = \"Positive 😊\" if prediction > 0.5 else \"Negative 😞\"\n",
        "    print(f\"Input: {text}\")\n",
        "    print(f\"Sentiment: {sentiment} (Confidence: {prediction:.2f})\")\n",
        "\n",
        "\n"
      ]
    },
    {
      "cell_type": "code",
      "source": [
        "# 🔍 Real-time testing\n",
        "while True:\n",
        "    user_input = input(\"Enter a review (or 'exit' to stop): \")\n",
        "    if user_input.lower() == 'exit':\n",
        "        break\n",
        "    predict_sentiment(user_input)"
      ],
      "metadata": {
        "colab": {
          "base_uri": "https://localhost:8080/"
        },
        "id": "yiuCHsXnMyho",
        "outputId": "2f77a8dd-a369-4ed4-fda5-425a42ba01db"
      },
      "execution_count": 3,
      "outputs": [
        {
          "name": "stdout",
          "output_type": "stream",
          "text": [
            "Enter a review (or 'exit' to stop): This movie was absolutely terrible\n",
            "\u001b[1m1/1\u001b[0m \u001b[32m━━━━━━━━━━━━━━━━━━━━\u001b[0m\u001b[37m\u001b[0m \u001b[1m0s\u001b[0m 121ms/step\n",
            "Input: This movie was absolutely terrible\n",
            "Sentiment: Negative 😞 (Confidence: 0.38)\n",
            "Enter a review (or 'exit' to stop): exit\n"
          ]
        }
      ]
    },
    {
      "cell_type": "code",
      "source": [],
      "metadata": {
        "id": "-ZOge8X_N1eh"
      },
      "execution_count": null,
      "outputs": []
    }
  ]
}